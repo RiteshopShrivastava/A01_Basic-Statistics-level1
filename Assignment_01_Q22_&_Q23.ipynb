{
  "nbformat": 4,
  "nbformat_minor": 0,
  "metadata": {
    "colab": {
      "name": "Assignment_01_Q22 & Q23.ipynb",
      "provenance": [],
      "collapsed_sections": [],
      "authorship_tag": "ABX9TyPPnLpusIoCMncpdmO09GFk",
      "include_colab_link": true
    },
    "kernelspec": {
      "name": "python3",
      "display_name": "Python 3"
    },
    "language_info": {
      "name": "python"
    }
  },
  "cells": [
    {
      "cell_type": "markdown",
      "metadata": {
        "id": "view-in-github",
        "colab_type": "text"
      },
      "source": [
        "<a href=\"https://colab.research.google.com/github/RiteshopShrivastava/A01_Basic-Statistics-level1/blob/main/Assignment_01_Q22_%26_Q23.ipynb\" target=\"_parent\"><img src=\"https://colab.research.google.com/assets/colab-badge.svg\" alt=\"Open In Colab\"/></a>"
      ]
    },
    {
      "cell_type": "markdown",
      "metadata": {
        "id": "vcPQB-wibUZf"
      },
      "source": [
        "Q 22 Calculate the Z scores of  90% confidence interval,94% confidence interval, 60% confidence interval "
      ]
    },
    {
      "cell_type": "code",
      "metadata": {
        "colab": {
          "base_uri": "https://localhost:8080/"
        },
        "id": "j15yiFSNUKUA",
        "outputId": "24ff7951-ed5f-405c-c59d-e1c33ca27bf7"
      },
      "source": [
        "# z scores at 90% confidence interval\n",
        "from scipy import stats\n",
        "stats.norm.ppf(0.95)"
      ],
      "execution_count": 1,
      "outputs": [
        {
          "output_type": "execute_result",
          "data": {
            "text/plain": [
              "1.6448536269514722"
            ]
          },
          "metadata": {
            "tags": []
          },
          "execution_count": 1
        }
      ]
    },
    {
      "cell_type": "code",
      "metadata": {
        "colab": {
          "base_uri": "https://localhost:8080/"
        },
        "id": "C8lUGBEEZcIQ",
        "outputId": "7aa2c966-2128-45cd-86b4-64d691a9cae1"
      },
      "source": [
        "# z scores at 94% confidence interval\n",
        "stats.norm.ppf(0.97)"
      ],
      "execution_count": 8,
      "outputs": [
        {
          "output_type": "execute_result",
          "data": {
            "text/plain": [
              "1.8807936081512509"
            ]
          },
          "metadata": {
            "tags": []
          },
          "execution_count": 8
        }
      ]
    },
    {
      "cell_type": "code",
      "metadata": {
        "colab": {
          "base_uri": "https://localhost:8080/"
        },
        "id": "Yobu87RmZcNh",
        "outputId": "53b908d3-7fb8-4369-943b-51d4e9203211"
      },
      "source": [
        "# z scores at 60% confidence interval\n",
        "stats.norm.ppf(0.80)"
      ],
      "execution_count": 3,
      "outputs": [
        {
          "output_type": "execute_result",
          "data": {
            "text/plain": [
              "0.8416212335729143"
            ]
          },
          "metadata": {
            "tags": []
          },
          "execution_count": 3
        }
      ]
    },
    {
      "cell_type": "markdown",
      "metadata": {
        "id": "Hy4ylq0fbgP7"
      },
      "source": [
        "Q 23 Calculate the t scores of 95% confidence interval, 96% confidence interval, 99% confidence interval for sample size of 25"
      ]
    },
    {
      "cell_type": "code",
      "metadata": {
        "colab": {
          "base_uri": "https://localhost:8080/"
        },
        "id": "wq-0sxbzboVp",
        "outputId": "b8ebb995-6a88-4146-82ba-1194ba9fd83f"
      },
      "source": [
        "# t scores at 95% confidence interval for sample size 25\n",
        "stats.t.ppf(.975, 24)"
      ],
      "execution_count": 6,
      "outputs": [
        {
          "output_type": "execute_result",
          "data": {
            "text/plain": [
              "1.973994288847133"
            ]
          },
          "metadata": {
            "tags": []
          },
          "execution_count": 6
        }
      ]
    },
    {
      "cell_type": "code",
      "metadata": {
        "colab": {
          "base_uri": "https://localhost:8080/"
        },
        "id": "PwfHMujzbojo",
        "outputId": "d150762c-c174-4f3a-a122-28dc24a03805"
      },
      "source": [
        "# t scores at 96% confidence interval for sample size 25\n",
        "stats.t.ppf(.98, 24)"
      ],
      "execution_count": 9,
      "outputs": [
        {
          "output_type": "execute_result",
          "data": {
            "text/plain": [
              "2.1715446760080677"
            ]
          },
          "metadata": {
            "tags": []
          },
          "execution_count": 9
        }
      ]
    },
    {
      "cell_type": "code",
      "metadata": {
        "colab": {
          "base_uri": "https://localhost:8080/"
        },
        "id": "b97sexsKboui",
        "outputId": "55d988aa-643a-498e-bdd5-3f3a2c11c4f5"
      },
      "source": [
        "# t scores at 99% confidence interval for sample size 25\n",
        "stats.t.ppf(.995, 24)"
      ],
      "execution_count": 10,
      "outputs": [
        {
          "output_type": "execute_result",
          "data": {
            "text/plain": [
              "2.796939504772804"
            ]
          },
          "metadata": {
            "tags": []
          },
          "execution_count": 10
        }
      ]
    }
  ]
}