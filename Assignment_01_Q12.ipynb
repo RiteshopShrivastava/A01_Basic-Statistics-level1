{
  "nbformat": 4,
  "nbformat_minor": 0,
  "metadata": {
    "colab": {
      "name": "Assignment_01_Q12.ipynb",
      "provenance": [],
      "collapsed_sections": [],
      "authorship_tag": "ABX9TyO8A2Rjc7Roi3v4owRwyBsc",
      "include_colab_link": true
    },
    "kernelspec": {
      "name": "python3",
      "display_name": "Python 3"
    }
  },
  "cells": [
    {
      "cell_type": "markdown",
      "metadata": {
        "id": "view-in-github",
        "colab_type": "text"
      },
      "source": [
        "<a href=\"https://colab.research.google.com/github/RiteshopShrivastava/A01_Basic-Statistics-level1/blob/main/Assignment_01_Q12.ipynb\" target=\"_parent\"><img src=\"https://colab.research.google.com/assets/colab-badge.svg\" alt=\"Open In Colab\"/></a>"
      ]
    },
    {
      "cell_type": "code",
      "metadata": {
        "id": "jblJlZwJocJq",
        "colab": {
          "base_uri": "https://localhost:8080/"
        },
        "outputId": "3e390cfe-90f3-4be2-c97a-635339f20a15"
      },
      "source": [
        "import pandas as pd\n",
        "import numpy as np\n",
        "import matplotlib.pyplot as plt\n",
        "\n",
        "x = [34,36,36,38,38,39,39,40,40,41,41,41,41,42,42,45,49,56]\n",
        "df = pd.DataFrame(x)\n",
        "print(df.mean())\n",
        "print(df.median())\n",
        "print(df.std())\n",
        "print(df.var())"
      ],
      "execution_count": 22,
      "outputs": [
        {
          "output_type": "stream",
          "text": [
            "0    41.0\n",
            "dtype: float64\n",
            "0    40.5\n",
            "dtype: float64\n",
            "0    5.052664\n",
            "dtype: float64\n",
            "0    25.529412\n",
            "dtype: float64\n"
          ],
          "name": "stdout"
        }
      ]
    },
    {
      "cell_type": "code",
      "metadata": {
        "colab": {
          "base_uri": "https://localhost:8080/",
          "height": 315
        },
        "id": "OdMK4opguOj6",
        "outputId": "53657210-f66f-4afe-8a19-213698818149"
      },
      "source": [
        "df.hist()"
      ],
      "execution_count": 18,
      "outputs": [
        {
          "output_type": "execute_result",
          "data": {
            "text/plain": [
              "array([[<matplotlib.axes._subplots.AxesSubplot object at 0x7fbb0e647790>]],\n",
              "      dtype=object)"
            ]
          },
          "metadata": {
            "tags": []
          },
          "execution_count": 18
        },
        {
          "output_type": "display_data",
          "data": {
            "image/png": "[encoded data removed]",
            "text/plain": [
              "<Figure size 432x288 with 1 Axes>"
            ]
          },
          "metadata": {
            "tags": [],
            "needs_background": "light"
          }
        }
      ]
    },
    {
      "cell_type": "code",
      "metadata": {
        "colab": {
          "base_uri": "https://localhost:8080/",
          "height": 282
        },
        "id": "ZHUCS4BouYHO",
        "outputId": "1face667-d657-4820-c43d-e1255e8a4402"
      },
      "source": [
        "df.boxplot()"
      ],
      "execution_count": 19,
      "outputs": [
        {
          "output_type": "execute_result",
          "data": {
            "text/plain": [
              "<matplotlib.axes._subplots.AxesSubplot at 0x7fbb0e4a5c50>"
            ]
          },
          "metadata": {
            "tags": []
          },
          "execution_count": 19
        },
        {
          "output_type": "display_data",
          "data": {
            "image/png": "[encoded data removed]",
            "text/plain": [
              "<Figure size 432x288 with 1 Axes>"
            ]
          },
          "metadata": {
            "tags": [],
            "needs_background": "light"
          }
        }
      ]
    },
    {
      "cell_type": "markdown",
      "metadata": {
        "id": "Z_uEqwxDyX4J"
      },
      "source": [
        "*Inference : Two marks i.e 49 & 56 are outliers*"
      ]
    }
  ]
}