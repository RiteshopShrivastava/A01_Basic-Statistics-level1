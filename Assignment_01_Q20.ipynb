{
  "nbformat": 4,
  "nbformat_minor": 0,
  "metadata": {
    "colab": {
      "name": "Assignment_01_Q20",
      "provenance": [],
      "collapsed_sections": [],
      "authorship_tag": "ABX9TyNjsQxyx/qJ8Hl9WGTUJBYY",
      "include_colab_link": true
    },
    "kernelspec": {
      "name": "python3",
      "display_name": "Python 3"
    },
    "language_info": {
      "name": "python"
    }
  },
  "cells": [
    {
      "cell_type": "markdown",
      "metadata": {
        "id": "view-in-github",
        "colab_type": "text"
      },
      "source": [
        "<a href=\"https://colab.research.google.com/github/RiteshopShrivastava/A01_Basic-Statistics-level1/blob/main/Assignment_01_Q20.ipynb\" target=\"_parent\"><img src=\"https://colab.research.google.com/assets/colab-badge.svg\" alt=\"Open In Colab\"/></a>"
      ]
    },
    {
      "cell_type": "markdown",
      "metadata": {
        "id": "ezuXivZcNEGY"
      },
      "source": [
        "Calculate probability from the given dataset for the below cases\n",
        "\n",
        "Data _set: Cars.csv\n",
        "\n",
        "Calculate the probability of MPG  of Cars for the below cases.\n",
        "\n",
        "\n"
      ]
    },
    {
      "cell_type": "code",
      "metadata": {
        "colab": {
          "base_uri": "https://localhost:8080/"
        },
        "id": "4iMHKasEGRtw",
        "outputId": "2ee45e36-a01f-42c3-e589-ace05c33435a"
      },
      "source": [
        "import pandas as pd\n",
        "import numpy as np\n",
        "from scipy import stats\n",
        "df = pd.read_csv('Cars.csv')\n",
        "print(df.MPG.mean())\n",
        "print(df.MPG.std())"
      ],
      "execution_count": 6,
      "outputs": [
        {
          "output_type": "stream",
          "text": [
            "34.422075728024666\n",
            "9.131444731795982\n"
          ],
          "name": "stdout"
        }
      ]
    },
    {
      "cell_type": "markdown",
      "metadata": {
        "id": "Q40r-xL3NzGB"
      },
      "source": [
        "Calculate the probability of MPG  of Cars for the below cases."
      ]
    },
    {
      "cell_type": "code",
      "metadata": {
        "colab": {
          "base_uri": "https://localhost:8080/"
        },
        "id": "puZtuMqfG82a",
        "outputId": "18127846-ad17-4aba-8c76-4afb66366ac0"
      },
      "source": [
        "Prob =1-stats.norm.cdf(38, 34.422, 9.131)  # P(MPG>38)\n",
        "Prob\n"
      ],
      "execution_count": 12,
      "outputs": [
        {
          "output_type": "execute_result",
          "data": {
            "text/plain": [
              "0.3475838101730251"
            ]
          },
          "metadata": {
            "tags": []
          },
          "execution_count": 12
        }
      ]
    },
    {
      "cell_type": "code",
      "metadata": {
        "colab": {
          "base_uri": "https://localhost:8080/"
        },
        "id": "kin_fj2EIl5X",
        "outputId": "b0629e68-22d3-4beb-887d-c6ad194858e5"
      },
      "source": [
        "Prob2 = stats.norm.cdf(50, 34.422, 9.131) -  stats.norm.cdf(20, 34.422, 9.131)   # P(20<MPG<50)\n",
        "Prob2"
      ],
      "execution_count": 14,
      "outputs": [
        {
          "output_type": "execute_result",
          "data": {
            "text/plain": [
              "0.8988852898457339"
            ]
          },
          "metadata": {
            "tags": []
          },
          "execution_count": 14
        }
      ]
    },
    {
      "cell_type": "code",
      "metadata": {
        "colab": {
          "base_uri": "https://localhost:8080/"
        },
        "id": "ItiwLFxZIdSQ",
        "outputId": "77e71994-cf83-4831-9537-5556b1ee905f"
      },
      "source": [
        "Prob1 =1-stats.norm.cdf(40, 34.422, 9.131)  #P(MPG<40)\n",
        "Prob1"
      ],
      "execution_count": 13,
      "outputs": [
        {
          "output_type": "execute_result",
          "data": {
            "text/plain": [
              "0.27063752929388696"
            ]
          },
          "metadata": {
            "tags": []
          },
          "execution_count": 13
        }
      ]
    }
  ]
}